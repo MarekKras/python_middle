{
 "cells": [
  {
   "cell_type": "code",
   "execution_count": 8,
   "id": "8058e2c1",
   "metadata": {},
   "outputs": [
    {
     "name": "stdout",
     "output_type": "stream",
     "text": [
      "Hello Pycharm! Hello Pycharm!!!\n",
      "<class 'str'> <class 'str'>\n",
      "Are variable the same False\n",
      "1559084627440 1559084917984\n",
      "Hello Pycharm! Hello Pycharm!\n",
      "<class 'str'> <class 'str'>\n",
      "Are variable the same False\n",
      "1559084627440 1559084348592\n"
     ]
    }
   ],
   "source": [
    "myvar = \"Hello Pycharm!\"\n",
    "myvar2 = myvar+'!!'\n",
    "print(myvar, myvar2)\n",
    "print(type(myvar), type(myvar2))\n",
    "print(\"Are variable the same\", myvar is myvar2)\n",
    "print(id(myvar),id(myvar2))\n",
    "myvar2 = myvar2[:-2]\n",
    "print(myvar, myvar2)\n",
    "print(type(myvar), type(myvar2))\n",
    "print(\"Are variable the same\", myvar is myvar2)\n",
    "print(id(myvar),id(myvar2))"
   ]
  },
  {
   "cell_type": "code",
   "execution_count": 11,
   "id": "03012d64",
   "metadata": {},
   "outputs": [
    {
     "name": "stdout",
     "output_type": "stream",
     "text": [
      "10 10 10\n",
      "140736812689488 140736812689488 140736812689488\n",
      "20 10 10\n",
      "140736812689808 140736812689488 140736812689488\n"
     ]
    }
   ],
   "source": [
    "a=b=c = 10 \n",
    "print (a,b,c)\n",
    "print(id(a),id(b),id(c))\n",
    "\n",
    "a = 20 \n",
    "\n",
    "print (a,b,c)\n",
    "print(id(a),id(b),id(c))\n"
   ]
  },
  {
   "cell_type": "code",
   "execution_count": 13,
   "id": "a93d1bea",
   "metadata": {},
   "outputs": [
    {
     "name": "stdout",
     "output_type": "stream",
     "text": [
      "[1, 2, 3] [1, 2, 3] [1, 2, 3]\n",
      "1559083357248 1559083357248 1559083357248\n",
      "[1, 2, 3, 4] [1, 2, 3, 4] [1, 2, 3, 4]\n",
      "1559083357248 1559083357248 1559083357248\n"
     ]
    }
   ],
   "source": [
    "a=b=c = [1,2,3]\n",
    "print (a,b,c)\n",
    "print(id(a),id(b),id(c))\n",
    "\n",
    "a.append(4)\n",
    "\n",
    "print (a,b,c)\n",
    "print(id(a),id(b),id(c))\n"
   ]
  },
  {
   "cell_type": "code",
   "execution_count": 14,
   "id": "15a4e962",
   "metadata": {},
   "outputs": [
    {
     "name": "stdout",
     "output_type": "stream",
     "text": [
      "10 10\n",
      "140736812689488 140736812689488\n"
     ]
    }
   ],
   "source": [
    "x = 10\n",
    "y = 10\n",
    "print(x,y)\n",
    "print(id(x),id(y))"
   ]
  },
  {
   "cell_type": "code",
   "execution_count": 15,
   "id": "9fc0c2ff",
   "metadata": {},
   "outputs": [
    {
     "name": "stdout",
     "output_type": "stream",
     "text": [
      "140736812689488 140736812689488\n",
      "-----------------------------\n"
     ]
    }
   ],
   "source": [
    "y = y + 1 - 1\n",
    "print(id(x), id(y))\n",
    "print('-----------------------------')"
   ]
  },
  {
   "cell_type": "code",
   "execution_count": 17,
   "id": "1ab0f554",
   "metadata": {},
   "outputs": [
    {
     "name": "stdout",
     "output_type": "stream",
     "text": [
      "140736812689488 1559085174128\n"
     ]
    }
   ],
   "source": [
    "y = y + 1234567890 - 1234567890\n",
    "print(id(x), id(y))\n"
   ]
  },
  {
   "cell_type": "code",
   "execution_count": 27,
   "id": "658964ab",
   "metadata": {},
   "outputs": [
    {
     "name": "stdout",
     "output_type": "stream",
     "text": [
      "Variable number: 10 140736812689488\n",
      "Variable number: 12 140736812689552\n",
      "varaible text: Africa 1559085030704\n",
      "varaible text: Africa is hot 1559086096944\n",
      "Variable [1, 2, 3] 1559086076864\n",
      "Variable list [1, 2, 3, 4] 1559086076864\n",
      "Variable list2 [1, 2, 3, 4] 1559086076864\n",
      "Variable list [1, 2, 3, 4, 5] 1559086076864\n",
      "Variable list2 [1, 2, 3, 4, 5] 1559086076864\n",
      "Variable list [1, 2, 3, 4, 5] 1559086076864\n",
      "Variable list3 [1, 2, 3, 4, 5] 1559084239680\n",
      "Variable list [1, 2, 3, 4, 5] 1559086076864\n",
      "Variable list3 [1, 2, 3, 4, 5, 6] 1559084239680\n"
     ]
    }
   ],
   "source": [
    "# text liczby są niezmienne immutable\n",
    "number = 10\n",
    "print('Variable number:',number,id(number))\n",
    "number += 2\n",
    "print('Variable number:',number,id(number))\n",
    "\n",
    "text = 'Africa'\n",
    "print(\"varaible text:\", text, id(text))\n",
    "text += ' is hot'\n",
    "print(\"varaible text:\", text, id(text))\n",
    "\n",
    "# listy są zmienne mutable \n",
    "list = [1,2,3]\n",
    "print('Variable',list, id(list))\n",
    "list.append(4)\n",
    "print('Variable list',list, id(list))\n",
    "\n",
    "# również jest ten sam identyfikator\n",
    "list2 = list\n",
    "print('Variable list2',list2, id(list2))\n",
    "list2.append(5)\n",
    "print('Variable list',list, id(list))\n",
    "print('Variable list2',list2, id(list2))\n",
    "\n",
    "list3 = list.copy()\n",
    "print('Variable list',list, id(list))\n",
    "print('Variable list3',list3, id(list3))\n",
    "list3.append(6)\n",
    "print('Variable list',list, id(list))\n",
    "print('Variable list3',list3, id(list3))\n",
    "#test\n",
    "\n"
   ]
  },
  {
   "cell_type": "code",
   "execution_count": 3,
   "id": "6486ab88",
   "metadata": {},
   "outputs": [
    {
     "name": "stdout",
     "output_type": "stream",
     "text": [
      "['mon', 'tue', 'wed', 'thu', 'fri', 'sat', 'sun']\n",
      "['mon', 'tue', 'wed', 'thu', 'fri']\n"
     ]
    }
   ],
   "source": [
    "days = ['mon','tue','wed','thu','fri','sat','sun']\n",
    "workdays = days.copy()\n",
    "workdays.remove('sat')\n",
    "workdays.remove('sun')\n",
    "\n",
    "print(days)\n",
    "print(workdays)\n",
    "\n"
   ]
  },
  {
   "cell_type": "code",
   "execution_count": null,
   "id": "36d3e6d6",
   "metadata": {
    "collapsed": true
   },
   "outputs": [],
   "source": []
  }
 ],
 "metadata": {
  "kernelspec": {
   "display_name": "Python 3",
   "language": "python",
   "name": "python3"
  },
  "language_info": {
   "codemirror_mode": {
    "name": "ipython",
    "version": 3
   },
   "file_extension": ".py",
   "mimetype": "text/x-python",
   "name": "python",
   "nbconvert_exporter": "python",
   "pygments_lexer": "ipython3",
   "version": "3.8.8"
  }
 },
 "nbformat": 4,
 "nbformat_minor": 5
}
