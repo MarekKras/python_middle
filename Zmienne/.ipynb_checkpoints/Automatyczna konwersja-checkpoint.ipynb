{
 "cells": [
  {
   "cell_type": "code",
   "execution_count": 2,
   "id": "e3a82ba2",
   "metadata": {},
   "outputs": [
    {
     "name": "stdout",
     "output_type": "stream",
     "text": [
      "Variable isOk True <class 'bool'>\n",
      "True\n"
     ]
    }
   ],
   "source": [
    "isOk = True\n",
    "\n",
    "print(\"Variable isOk\", isOk, type(isOk))\n",
    "if isOk:\n",
    "    print('True')"
   ]
  },
  {
   "cell_type": "code",
   "execution_count": 4,
   "id": "6b5dc12c",
   "metadata": {},
   "outputs": [
    {
     "name": "stdout",
     "output_type": "stream",
     "text": [
      "Variable isOk -1 <class 'int'>\n",
      "True\n"
     ]
    }
   ],
   "source": [
    "isOk = -1\n",
    "print(\"Variable isOk\", isOk, type(isOk))\n",
    "if isOk:\n",
    "    print('True')"
   ]
  },
  {
   "cell_type": "code",
   "execution_count": null,
   "id": "24f1e707",
   "metadata": {},
   "outputs": [],
   "source": [
    "isOk = [1,2,3]\n",
    "print(\"Variable isOk\", isOk, type(isOk))\n",
    "if isOk:\n",
    "    print('True')"
   ]
  },
  {
   "cell_type": "code",
   "execution_count": null,
   "id": "7d3fc103",
   "metadata": {},
   "outputs": [],
   "source": [
    "listOfErrors = [100,101,102]\n",
    "print(\"Variable isOk\", listOfErrors, type(listOfErrors))\n",
    "if  len (listOfErrors) >0:\n",
    "    print('True')"
   ]
  },
  {
   "cell_type": "code",
   "execution_count": null,
   "id": "87a730e5",
   "metadata": {},
   "outputs": [],
   "source": [
    "def DisplayOptions(options):\n",
    "    for i in range(len(options)):\n",
    "        print(\"{} - {}\".format(i+1,options[i]))\n",
    "\n",
    "    choice = input('Select option above or press enter to exit:')\n",
    "    return choice\n",
    "\n",
    "choice = 'x'\n",
    "options = ['load data', 'export data', 'analyze & predict']\n",
    "\n",
    "while choice:\n",
    "\n",
    "    choice = DisplayOptions(options)\n",
    "    \n",
    "    if choice:\n",
    "        try:\n",
    "            choice_num = int(choice)-1\n",
    "            if choice_num >= 0 and choice_num < len(options):\n",
    "                print(\"you have selected {} - {}\".format(choice_numh+1,options[choice_num]))\n",
    "            else:\n",
    "                print(\"chose a value from a list or press enter\")\n",
    "        except:\n",
    "            print(\"You need to enter a number\")\n",
    "    else:\n",
    "        print('--------END---------')\n"
   ]
  },
  {
   "cell_type": "code",
   "execution_count": null,
   "id": "a6c1ebe7",
   "metadata": {},
   "outputs": [],
   "source": []
  },
  {
   "cell_type": "code",
   "execution_count": null,
   "id": "52982ef1",
   "metadata": {},
   "outputs": [],
   "source": []
  }
 ],
 "metadata": {
  "kernelspec": {
   "display_name": "Python 3",
   "language": "python",
   "name": "python3"
  },
  "language_info": {
   "codemirror_mode": {
    "name": "ipython",
    "version": 3
   },
   "file_extension": ".py",
   "mimetype": "text/x-python",
   "name": "python",
   "nbconvert_exporter": "python",
   "pygments_lexer": "ipython3",
   "version": "3.8.8"
  }
 },
 "nbformat": 4,
 "nbformat_minor": 5
}
