{
 "cells": [
  {
   "cell_type": "code",
   "execution_count": 5,
   "id": "61136412",
   "metadata": {},
   "outputs": [
    {
     "name": "stdout",
     "output_type": "stream",
     "text": [
      "Adding instruction: say hello\n",
      "Adding instruction: say how are you\n",
      "Adding instruction: abort\n",
      "Aborting!!!\n"
     ]
    }
   ],
   "source": [
    "instruction = ['say hello','say how are you','abort','ask for money','say thank you','say bye']\n",
    "instructionApproved = []\n",
    "\n",
    "\n",
    "\n",
    "for instr in instruction:\n",
    "    print('Adding instruction:', instr)\n",
    "    instructionApproved.append(instr)\n",
    "\n",
    "    if instr == 'abort':\n",
    "        print('Aborting!!!')\n",
    "        instructionApproved.clear()\n",
    "        break\n",
    "    i+=1\n",
    "        \n",
    "else:        \n",
    "    print('Following actions will be taken:',instructionApproved)"
   ]
  },
  {
   "cell_type": "code",
   "execution_count": 17,
   "id": "a3fd6793",
   "metadata": {},
   "outputs": [
    {
     "name": "stdout",
     "output_type": "stream",
     "text": [
      "------------------------------\n",
      "Adding instruction: say hello\n",
      "Adding instruction: say how are you\n",
      "Adding instruction: ask for money\n",
      "Adding instruction: say thank you\n",
      "Adding instruction: say bye\n",
      "Following actions will be taken: ['say hello', 'say how are you', 'ask for money', 'say thank you', 'say bye']\n"
     ]
    }
   ],
   "source": [
    "instruction = ['say hello','say how are you','ask for money','say thank you','say bye']\n",
    "instructionApproved = []\n",
    "\n",
    "\n",
    "print('-'*30)\n",
    "instructionApproved.clear()\n",
    "\n",
    "i = 0\n",
    "while i< len(instruction):\n",
    "    print('Adding instruction:', instruction[i])\n",
    "    instructionApproved.append(instruction[i])\n",
    "\n",
    "    if instruction[i] == 'abort':\n",
    "        print('Aborting!!!')\n",
    "        instructionApproved.clear()\n",
    "        break\n",
    "    i+=1\n",
    "        \n",
    "else:        \n",
    "    print('Following actions will be taken:',instructionApproved)"
   ]
  },
  {
   "cell_type": "code",
   "execution_count": null,
   "id": "be40c7cb",
   "metadata": {},
   "outputs": [],
   "source": [
    "import urllib.request\n",
    "import os\n",
    " \n",
    "data_dir = 'c:/temp'\n",
    "pages = [\n",
    "    { 'name': 'mobilo',      'url': 'http://www.mobilo24.eu/'},\n",
    "    { 'name': 'nonexistent', 'url': 'http://abc.cde.fgh.ijk.pl/' },\n",
    "    { 'name': 'kursy',       'url': 'http://www.kursyonline24.eu/'} ]\n",
    " \n",
    "for page in pages:\n",
    " \n",
    "    try:\n",
    "        file_name = \"{}.html\".format(page[\"name\"])\n",
    "        path = os.path.join(data_dir, file_name)\n",
    " \n",
    "        print(\"Processing: {}  => {} ...\".format(page[\"url\"], file_name))\n",
    "        urllib.request.urlretrieve (page[\"url\"], path)\n",
    "        print('...done')\n",
    "        \n",
    "    except:\n",
    "        print('FAILURE processing web page: {}'.format(page[\"name\"]))\n",
    "        print('Stopping the process!')\n",
    "        break\n",
    " \n",
    "else:\n",
    "    print('All pages downloaded successfully!!!')"
   ]
  },
  {
   "cell_type": "code",
   "execution_count": 25,
   "id": "8256db4b",
   "metadata": {},
   "outputs": [
    {
     "name": "stdout",
     "output_type": "stream",
     "text": [
      "Processing: http://www.mobilo24.eu/  => mobilo.html ...\n",
      "FAILURE processing web page: mobilo\n",
      "Stopping the process!\n"
     ]
    }
   ],
   "source": [
    "\n",
    "import urllib.request\n",
    "import os\n",
    " \n",
    "data_dir =  r'C:\\Users\\Marek\\Desktop\\myfile.txt'\n",
    "pages = [\n",
    "    { 'name': 'mobilo',      'url': 'http://www.mobilo24.eu/'},\n",
    "    { 'name': 'nonexistent', 'url': 'http://abc.cde.fgh.ijk.pl/' },\n",
    "    { 'name': 'kursy',       'url': 'http://www.kursyonline24.eu/'} ]\n",
    " \n",
    "for page in pages:\n",
    " \n",
    "    try:\n",
    "        file_name = \"{}.html\".format(page[\"name\"])\n",
    "        path = os.path.join(data_dir, file_name)\n",
    " \n",
    "        print(\"Processing: {}  => {} ...\".format(page[\"url\"], file_name))\n",
    "        urllib.request.urlretrieve (page[\"url\"], path)\n",
    "        print('...done')\n",
    "        \n",
    "    except:\n",
    "        print('FAILURE processing web page: {}'.format(page[\"name\"]))\n",
    "        print('Stopping the process!')\n",
    "        break\n",
    " \n",
    "else:\n",
    "    print('All pages downloaded successfully!!!')\n"
   ]
  },
  {
   "cell_type": "code",
   "execution_count": null,
   "id": "e0763f9c",
   "metadata": {},
   "outputs": [],
   "source": []
  }
 ],
 "metadata": {
  "kernelspec": {
   "display_name": "Python 3",
   "language": "python",
   "name": "python3"
  },
  "language_info": {
   "codemirror_mode": {
    "name": "ipython",
    "version": 3
   },
   "file_extension": ".py",
   "mimetype": "text/x-python",
   "name": "python",
   "nbconvert_exporter": "python",
   "pygments_lexer": "ipython3",
   "version": "3.8.8"
  }
 },
 "nbformat": 4,
 "nbformat_minor": 5
}
