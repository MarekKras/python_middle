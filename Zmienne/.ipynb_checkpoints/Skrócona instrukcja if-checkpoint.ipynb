{
 "cells": [
  {
   "cell_type": "code",
   "execution_count": 10,
   "id": "78f69cc1",
   "metadata": {},
   "outputs": [
    {
     "name": "stdout",
     "output_type": "stream",
     "text": [
      "holiday\n"
     ]
    }
   ],
   "source": [
    "dayType = 5\n",
    "\n",
    "weekend = 3\n",
    "workday = 2\n",
    "#holiday = 3\n",
    "\n",
    "\n",
    "#nic nie robi ale dzięki temu funkcja może się wykonać \n",
    "pass\n",
    "\n",
    "\n",
    "if dayType ==1:\n",
    "    pass\n",
    "elif dayType ==2:\n",
    "    pass\n",
    "else:\n",
    "    pass\n",
    "\n",
    "\n",
    "dayDescription = 'weekend' if dayType == 1 else 'workday' if dayType == 2 else 'holiday'\n",
    "print(dayDescription)"
   ]
  },
  {
   "cell_type": "code",
   "execution_count": 11,
   "id": "80bbae69",
   "metadata": {},
   "outputs": [
    {
     "name": "stdout",
     "output_type": "stream",
     "text": [
      "100\n"
     ]
    }
   ],
   "source": [
    "price = 123\n",
    "bonus = 23\n",
    "bonus_granted = True\n",
    " \n",
    "if bonus_granted:\n",
    "    price -= bonus\n",
    " \n",
    "print(price)\n",
    "\n"
   ]
  },
  {
   "cell_type": "code",
   "execution_count": 12,
   "id": "5d7b4cd6",
   "metadata": {},
   "outputs": [
    {
     "name": "stdout",
     "output_type": "stream",
     "text": [
      "100\n"
     ]
    }
   ],
   "source": [
    "# uproszczona wersja \n",
    "price = 123\n",
    "bonus = 23\n",
    "bonus_granted == True\n",
    " \n",
    "price = price - bonus if bonus_granted else price\n",
    "print(price)"
   ]
  },
  {
   "cell_type": "code",
   "execution_count": 13,
   "id": "276f9cce",
   "metadata": {},
   "outputs": [
    {
     "name": "stdout",
     "output_type": "stream",
     "text": [
      "very good\n"
     ]
    }
   ],
   "source": [
    "rating = 5\n",
    " \n",
    "if rating == 5:\n",
    "    print('very good')\n",
    "elif rating == 4:\n",
    "    print('good')\n",
    "else:\n",
    "    print('weak')"
   ]
  },
  {
   "cell_type": "code",
   "execution_count": 15,
   "id": "58f41e28",
   "metadata": {},
   "outputs": [
    {
     "name": "stdout",
     "output_type": "stream",
     "text": [
      "week\n"
     ]
    }
   ],
   "source": [
    "rating = 3\n",
    " \n",
    "print('very good' if rating == 5 else 'good' if rating ==4 else 'week')"
   ]
  },
  {
   "cell_type": "code",
   "execution_count": 16,
   "id": "697e023d",
   "metadata": {},
   "outputs": [
    {
     "name": "stdout",
     "output_type": "stream",
     "text": [
      "I'm helping my mum\n"
     ]
    }
   ],
   "source": [
    "import datetime as dt \n",
    "\n",
    "today_weekday = dt.datetime.today().strftime(\"%A\")\n",
    "\n",
    "if today_weekday == 'Monday':\n",
    "    print(\"I'm helping my mum\")\n",
    "elif today_weekday == 'Tuesday' or today_weekday == 'Wednesday':\n",
    "    print(\"You are doing laundry\")\n",
    "elif today_weekday == 'Thursday':\n",
    "    print(\"I'm on duty\")\n",
    "elif today_weekday == 'Friday':\n",
    "    print(\"I have two meetings\")\n",
    "elif today_weekday == 'Saturday':\n",
    "    print(\"You have lessons\")\n",
    "else:\n",
    "    print(\"SUNDAY WILL BE FOR US\")"
   ]
  },
  {
   "cell_type": "code",
   "execution_count": null,
   "id": "f284aa80",
   "metadata": {},
   "outputs": [],
   "source": []
  }
 ],
 "metadata": {
  "kernelspec": {
   "display_name": "Python 3",
   "language": "python",
   "name": "python3"
  },
  "language_info": {
   "codemirror_mode": {
    "name": "ipython",
    "version": 3
   },
   "file_extension": ".py",
   "mimetype": "text/x-python",
   "name": "python",
   "nbconvert_exporter": "python",
   "pygments_lexer": "ipython3",
   "version": "3.8.8"
  }
 },
 "nbformat": 4,
 "nbformat_minor": 5
}
