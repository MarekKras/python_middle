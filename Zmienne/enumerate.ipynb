{
 "cells": [
  {
   "cell_type": "code",
   "execution_count": 5,
   "id": "28957011",
   "metadata": {},
   "outputs": [
    {
     "name": "stdout",
     "output_type": "stream",
     "text": [
      "[19, 21, 22, 21, 20, 22]\n",
      "22\n",
      "[(0, 19), (1, 21), (2, 22), (3, 21), (4, 20), (5, 22)]\n",
      "Postion 0 value 19\n",
      "Postion 1 value 21\n",
      "Postion 2 value 22\n",
      "Postion 3 value 21\n",
      "Postion 4 value 20\n",
      "Postion 5 value 22\n",
      "[('I', 19), ('II', 21), ('III', 22), ('IV', 21), ('V', 20), ('VI', 22)]\n",
      "Month I days 19\n",
      "Month II days 21\n",
      "Month III days 22\n",
      "Month IV days 21\n",
      "Month V days 20\n",
      "Month VI days 22\n",
      "Position 0 month I days 19\n",
      "Position 1 month II days 21\n",
      "Position 2 month III days 22\n",
      "Position 3 month IV days 21\n",
      "Position 4 month V days 20\n",
      "Position 5 month VI days 22\n"
     ]
    }
   ],
   "source": [
    "workDays = [19,21,22,21,20,22]\n",
    "\n",
    "# enumerate czyli numerowanie np listy\n",
    "print(workDays)\n",
    "\n",
    "print(workDays[2])\n",
    "\n",
    "enumerateDays = list(enumerate(workDays))\n",
    "print(enumerateDays)\n",
    "\n",
    "for pos, value in enumerateDays:\n",
    "    print('Postion', pos, 'value',value)\n",
    "    \n",
    "months = ['I','II','III','IV','V','VI']\n",
    "\n",
    "\n",
    "# połącznie 2 list \n",
    "\n",
    "monthDays = list(zip(months,workDays))\n",
    "print (monthDays)\n",
    "\n",
    "\n",
    "for m,d in monthDays:\n",
    "    print('Month',m,'days',d)\n",
    "    \n",
    "for pos, (m,d) in enumerate(zip(months, workDays)):\n",
    "    print('Position',pos, 'month',m,'days',d)"
   ]
  },
  {
   "cell_type": "code",
   "execution_count": 6,
   "id": "acd20e68",
   "metadata": {},
   "outputs": [
    {
     "name": "stdout",
     "output_type": "stream",
     "text": [
      "The leader of Brexit is Theresa May\n",
      "The leader of Nord Stream is Wladimir Putin\n",
      "The leader of US Mexico Border is Donald Trump and Bill Clinton\n"
     ]
    }
   ],
   "source": [
    "projects = ['Brexit', 'Nord Stream', 'US Mexico Border']\n",
    "leaders = ['Theresa May', 'Wladimir Putin', 'Donald Trump and Bill Clinton']\n",
    "\n",
    "for pos, (d,m) in enumerate(zip(projects,leaders)):\n",
    "    print('The leader of',d,'is',m)"
   ]
  },
  {
   "cell_type": "code",
   "execution_count": 7,
   "id": "60ec9ff5",
   "metadata": {},
   "outputs": [
    {
     "name": "stdout",
     "output_type": "stream",
     "text": [
      "The leader of Brexit is Theresa May\n",
      "The leader of Krzy Stream is Wladimir Putin\n",
      "The leader of US Mexico Border is Donald Trump and Bill Clinton\n"
     ]
    }
   ],
   "source": [
    "projects = ['Brexit', 'Krzy Stream', 'US Mexico Border']\n",
    "leaders = ['Theresa May', 'Wladimir Putin', 'Donald Trump and Bill Clinton']\n",
    "\n",
    "for pos,(b,l) in enumerate(zip(projects,leaders)):\n",
    "    print('The leader of',b,'is',l)"
   ]
  },
  {
   "cell_type": "code",
   "execution_count": 8,
   "id": "20d77ca5",
   "metadata": {},
   "outputs": [
    {
     "name": "stdout",
     "output_type": "stream",
     "text": [
      "The leader of \"Brexit\" is Theresa May\n",
      "The leader of \"Nord Stream\" is Wladimir Putin\n",
      "The leader of \"US Mexico Border\" is Donald Trump and Bill Clinton\n"
     ]
    }
   ],
   "source": [
    "projects = ['Brexit', 'Nord Stream', 'US Mexico Border']\n",
    "leaders = ['Theresa May', 'Wladimir Putin', 'Donald Trump and Bill Clinton']\n",
    " \n",
    "for p, l in zip(projects, leaders):\n",
    "    print('The leader of \"{}\" is {}'.format(p,l))"
   ]
  },
  {
   "cell_type": "code",
   "execution_count": 10,
   "id": "11c56384",
   "metadata": {},
   "outputs": [
    {
     "name": "stdout",
     "output_type": "stream",
     "text": [
      "The leader of \"Brexit\" started 2016-06-23 is Theresa May\n",
      "The leader of \"Nord Stream\" started 2016-08-29 is Wladimir Putin\n",
      "The leader of \"US Mexico Border\" started 1994-01-01 is Donald Trump and Bill Clinton\n",
      "1 - The leader of \"Brexit\" started 2016-06-23 is Theresa May\n",
      "2 - The leader of \"Nord Stream\" started 2016-08-29 is Wladimir Putin\n",
      "3 - The leader of \"US Mexico Border\" started 1994-01-01 is Donald Trump and Bill Clinton\n"
     ]
    }
   ],
   "source": [
    "dates = ['2016-06-23', '2016-08-29', '1994-01-01']\n",
    " \n",
    "for p, l,d in zip(projects, leaders, dates):\n",
    "    print('The leader of \"{}\" started {} is {}'.format(p,d,l))\n",
    "    \n",
    "for i, (p,l,d) in enumerate(zip(projects, leaders, dates)):\n",
    "    print('{} - The leader of \"{}\" started {} is {}'.format(i+1,p,d,l))"
   ]
  },
  {
   "cell_type": "code",
   "execution_count": null,
   "id": "58c5e9f6",
   "metadata": {},
   "outputs": [],
   "source": []
  }
 ],
 "metadata": {
  "kernelspec": {
   "display_name": "Python 3",
   "language": "python",
   "name": "python3"
  },
  "language_info": {
   "codemirror_mode": {
    "name": "ipython",
    "version": 3
   },
   "file_extension": ".py",
   "mimetype": "text/x-python",
   "name": "python",
   "nbconvert_exporter": "python",
   "pygments_lexer": "ipython3",
   "version": "3.8.8"
  }
 },
 "nbformat": 4,
 "nbformat_minor": 5
}
