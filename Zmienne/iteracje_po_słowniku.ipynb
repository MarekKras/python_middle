{
 "cells": [
  {
   "cell_type": "code",
   "execution_count": 5,
   "id": "5caaaa85",
   "metadata": {},
   "outputs": [
    {
     "name": "stdout",
     "output_type": "stream",
     "text": [
      "{'I': 19, 'II': 21, 'III': 22, 'IV': 21, 'V': 20, 'VI': 22}\n",
      "Key is I value is 19\n",
      "Key is II value is 21\n",
      "Key is III value is 22\n",
      "Key is IV value is 21\n",
      "Key is V value is 20\n",
      "Key is VI value is 22\n",
      "the value is 19\n",
      "the value is 21\n",
      "the value is 22\n",
      "the value is 21\n",
      "the value is 20\n",
      "the value is 22\n"
     ]
    }
   ],
   "source": [
    "workDays = [19,21,22,21,20,22]\n",
    "months = ['I','II','III','IV','V','VI']\n",
    "\n",
    "monthDays = dict(zip(months,workDays))\n",
    "print(monthDays)\n",
    "\n",
    "\n",
    "for key in monthDays:\n",
    "    print('Key is',key, 'value is', monthDays[key])\n",
    "    \n",
    "for value in monthDays.values():\n",
    "    print('the value is', value)"
   ]
  },
  {
   "cell_type": "code",
   "execution_count": 18,
   "id": "456d9059",
   "metadata": {},
   "outputs": [
    {
     "name": "stdout",
     "output_type": "stream",
     "text": [
      "Denominate:   0.01 - amount     0\n",
      "Denominate:   0.02 - amount     0\n",
      "Denominate:   0.05 - amount     0\n",
      "Denominate:   0.10 - amount     0\n",
      "Denominate:   0.20 - amount     0\n",
      "Denominate:   0.50 - amount     1\n",
      "Denominate:   1.00 - amount     0\n",
      "Denominate:   2.00 - amount     3\n",
      "Denominate:   5.00 - amount     2\n",
      "Denominate:  10.00 - amount     0\n",
      "Denominate:  20.00 - amount     3\n",
      "Denominate:  50.00 - amount     2\n",
      "Denominate: 100.00 - amount     2\n",
      "Denominate: 200.00 - amount     0\n",
      "Denominate: 500.00 - amount     0\n"
     ]
    }
   ],
   "source": [
    "banknotes_coins = [0.01, 0.02, 0.05, 0.1, 0.2, 0.5, 1, 2, 5, 10, 20, 50, 100, 200, 500]\n",
    " \n",
    "dict_denominations = {}\n",
    " \n",
    "for d in banknotes_coins:\n",
    "    dict_denominations[d]=0\n",
    " \n",
    " \n",
    "dict_denominations[100] += 1\n",
    "dict_denominations[20] += 1\n",
    "dict_denominations[5] += 1\n",
    "dict_denominations[0.5] += 1\n",
    " \n",
    "dict_denominations[50] += 1\n",
    "dict_denominations[20] += 2\n",
    "dict_denominations[5] += 1\n",
    "dict_denominations[2] += 2\n",
    " \n",
    "dict_denominations[100] += 1\n",
    "dict_denominations[50] += 1\n",
    "dict_denominations[2] += 1\n",
    " \n",
    "for k in sorted(dict_denominations.keys()):\n",
    "    print(\"Denominate: {0:6.2f} - amount {1:5}\".format(k, dict_denominations[k]))\n",
    "\n",
    "\n",
    "\n"
   ]
  },
  {
   "cell_type": "code",
   "execution_count": null,
   "id": "914cecc9",
   "metadata": {},
   "outputs": [],
   "source": []
  }
 ],
 "metadata": {
  "kernelspec": {
   "display_name": "Python 3",
   "language": "python",
   "name": "python3"
  },
  "language_info": {
   "codemirror_mode": {
    "name": "ipython",
    "version": 3
   },
   "file_extension": ".py",
   "mimetype": "text/x-python",
   "name": "python",
   "nbconvert_exporter": "python",
   "pygments_lexer": "ipython3",
   "version": "3.8.8"
  }
 },
 "nbformat": 4,
 "nbformat_minor": 5
}
